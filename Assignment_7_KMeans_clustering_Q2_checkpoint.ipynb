{
  "cells": [
    {
      "cell_type": "code",
      "execution_count": null,
      "id": "c64d2700",
      "metadata": {
        "id": "c64d2700"
      },
      "outputs": [],
      "source": [
        "import pandas as pd\n",
        "import numpy as np\n",
        "import matplotlib.pyplot as plt"
      ]
    },
    {
      "cell_type": "code",
      "execution_count": null,
      "id": "79d1c738",
      "metadata": {
        "id": "79d1c738"
      },
      "outputs": [],
      "source": [
        "data = pd.read_excel(\"C:/Users/sravanthi/Downloads/EastWestAirlines.xlsx\",sheet_name=\"data\")"
      ]
    },
    {
      "cell_type": "code",
      "execution_count": null,
      "id": "ab0f75bd",
      "metadata": {
        "id": "ab0f75bd",
        "outputId": "4fb85dcf-3f1e-42c9-c067-f06ee9fe8b65"
      },
      "outputs": [
        {
          "data": {
            "text/html": [
              "<div>\n",
              "<style scoped>\n",
              "    .dataframe tbody tr th:only-of-type {\n",
              "        vertical-align: middle;\n",
              "    }\n",
              "\n",
              "    .dataframe tbody tr th {\n",
              "        vertical-align: top;\n",
              "    }\n",
              "\n",
              "    .dataframe thead th {\n",
              "        text-align: right;\n",
              "    }\n",
              "</style>\n",
              "<table border=\"1\" class=\"dataframe\">\n",
              "  <thead>\n",
              "    <tr style=\"text-align: right;\">\n",
              "      <th></th>\n",
              "      <th>ID#</th>\n",
              "      <th>Balance</th>\n",
              "      <th>Qual_miles</th>\n",
              "      <th>cc1_miles</th>\n",
              "      <th>cc2_miles</th>\n",
              "      <th>cc3_miles</th>\n",
              "      <th>Bonus_miles</th>\n",
              "      <th>Bonus_trans</th>\n",
              "      <th>Flight_miles_12mo</th>\n",
              "      <th>Flight_trans_12</th>\n",
              "      <th>Days_since_enroll</th>\n",
              "      <th>Award?</th>\n",
              "    </tr>\n",
              "  </thead>\n",
              "  <tbody>\n",
              "    <tr>\n",
              "      <th>0</th>\n",
              "      <td>1</td>\n",
              "      <td>28143</td>\n",
              "      <td>0</td>\n",
              "      <td>1</td>\n",
              "      <td>1</td>\n",
              "      <td>1</td>\n",
              "      <td>174</td>\n",
              "      <td>1</td>\n",
              "      <td>0</td>\n",
              "      <td>0</td>\n",
              "      <td>7000</td>\n",
              "      <td>0</td>\n",
              "    </tr>\n",
              "    <tr>\n",
              "      <th>1</th>\n",
              "      <td>2</td>\n",
              "      <td>19244</td>\n",
              "      <td>0</td>\n",
              "      <td>1</td>\n",
              "      <td>1</td>\n",
              "      <td>1</td>\n",
              "      <td>215</td>\n",
              "      <td>2</td>\n",
              "      <td>0</td>\n",
              "      <td>0</td>\n",
              "      <td>6968</td>\n",
              "      <td>0</td>\n",
              "    </tr>\n",
              "    <tr>\n",
              "      <th>2</th>\n",
              "      <td>3</td>\n",
              "      <td>41354</td>\n",
              "      <td>0</td>\n",
              "      <td>1</td>\n",
              "      <td>1</td>\n",
              "      <td>1</td>\n",
              "      <td>4123</td>\n",
              "      <td>4</td>\n",
              "      <td>0</td>\n",
              "      <td>0</td>\n",
              "      <td>7034</td>\n",
              "      <td>0</td>\n",
              "    </tr>\n",
              "    <tr>\n",
              "      <th>3</th>\n",
              "      <td>4</td>\n",
              "      <td>14776</td>\n",
              "      <td>0</td>\n",
              "      <td>1</td>\n",
              "      <td>1</td>\n",
              "      <td>1</td>\n",
              "      <td>500</td>\n",
              "      <td>1</td>\n",
              "      <td>0</td>\n",
              "      <td>0</td>\n",
              "      <td>6952</td>\n",
              "      <td>0</td>\n",
              "    </tr>\n",
              "    <tr>\n",
              "      <th>4</th>\n",
              "      <td>5</td>\n",
              "      <td>97752</td>\n",
              "      <td>0</td>\n",
              "      <td>4</td>\n",
              "      <td>1</td>\n",
              "      <td>1</td>\n",
              "      <td>43300</td>\n",
              "      <td>26</td>\n",
              "      <td>2077</td>\n",
              "      <td>4</td>\n",
              "      <td>6935</td>\n",
              "      <td>1</td>\n",
              "    </tr>\n",
              "  </tbody>\n",
              "</table>\n",
              "</div>"
            ],
            "text/plain": [
              "   ID#  Balance  Qual_miles  cc1_miles  cc2_miles  cc3_miles  Bonus_miles  \\\n",
              "0    1    28143           0          1          1          1          174   \n",
              "1    2    19244           0          1          1          1          215   \n",
              "2    3    41354           0          1          1          1         4123   \n",
              "3    4    14776           0          1          1          1          500   \n",
              "4    5    97752           0          4          1          1        43300   \n",
              "\n",
              "   Bonus_trans  Flight_miles_12mo  Flight_trans_12  Days_since_enroll  Award?  \n",
              "0            1                  0                0               7000       0  \n",
              "1            2                  0                0               6968       0  \n",
              "2            4                  0                0               7034       0  \n",
              "3            1                  0                0               6952       0  \n",
              "4           26               2077                4               6935       1  "
            ]
          },
          "execution_count": 44,
          "metadata": {},
          "output_type": "execute_result"
        }
      ],
      "source": [
        "data.head()"
      ]
    },
    {
      "cell_type": "code",
      "execution_count": null,
      "id": "28904984",
      "metadata": {
        "id": "28904984",
        "outputId": "277b2147-0ada-4a17-a8e4-4345a75db7c4"
      },
      "outputs": [
        {
          "data": {
            "text/plain": [
              "(3999, 12)"
            ]
          },
          "execution_count": 45,
          "metadata": {},
          "output_type": "execute_result"
        }
      ],
      "source": [
        "data.shape"
      ]
    },
    {
      "cell_type": "code",
      "execution_count": null,
      "id": "12a61db0",
      "metadata": {
        "id": "12a61db0",
        "outputId": "60bf8d14-a6da-4d19-b972-77ee32e0ada8"
      },
      "outputs": [
        {
          "data": {
            "text/html": [
              "<div>\n",
              "<style scoped>\n",
              "    .dataframe tbody tr th:only-of-type {\n",
              "        vertical-align: middle;\n",
              "    }\n",
              "\n",
              "    .dataframe tbody tr th {\n",
              "        vertical-align: top;\n",
              "    }\n",
              "\n",
              "    .dataframe thead th {\n",
              "        text-align: right;\n",
              "    }\n",
              "</style>\n",
              "<table border=\"1\" class=\"dataframe\">\n",
              "  <thead>\n",
              "    <tr style=\"text-align: right;\">\n",
              "      <th></th>\n",
              "      <th>ID#</th>\n",
              "      <th>Balance</th>\n",
              "      <th>Qual_miles</th>\n",
              "      <th>cc1_miles</th>\n",
              "      <th>cc2_miles</th>\n",
              "      <th>cc3_miles</th>\n",
              "      <th>Bonus_miles</th>\n",
              "      <th>Bonus_trans</th>\n",
              "      <th>Flight_miles_12mo</th>\n",
              "      <th>Flight_trans_12</th>\n",
              "      <th>Days_since_enroll</th>\n",
              "      <th>Award?</th>\n",
              "    </tr>\n",
              "  </thead>\n",
              "  <tbody>\n",
              "    <tr>\n",
              "      <th>count</th>\n",
              "      <td>3999.000000</td>\n",
              "      <td>3.999000e+03</td>\n",
              "      <td>3999.000000</td>\n",
              "      <td>3999.000000</td>\n",
              "      <td>3999.000000</td>\n",
              "      <td>3999.000000</td>\n",
              "      <td>3999.000000</td>\n",
              "      <td>3999.00000</td>\n",
              "      <td>3999.000000</td>\n",
              "      <td>3999.000000</td>\n",
              "      <td>3999.00000</td>\n",
              "      <td>3999.000000</td>\n",
              "    </tr>\n",
              "    <tr>\n",
              "      <th>mean</th>\n",
              "      <td>2014.819455</td>\n",
              "      <td>7.360133e+04</td>\n",
              "      <td>144.114529</td>\n",
              "      <td>2.059515</td>\n",
              "      <td>1.014504</td>\n",
              "      <td>1.012253</td>\n",
              "      <td>17144.846212</td>\n",
              "      <td>11.60190</td>\n",
              "      <td>460.055764</td>\n",
              "      <td>1.373593</td>\n",
              "      <td>4118.55939</td>\n",
              "      <td>0.370343</td>\n",
              "    </tr>\n",
              "    <tr>\n",
              "      <th>std</th>\n",
              "      <td>1160.764358</td>\n",
              "      <td>1.007757e+05</td>\n",
              "      <td>773.663804</td>\n",
              "      <td>1.376919</td>\n",
              "      <td>0.147650</td>\n",
              "      <td>0.195241</td>\n",
              "      <td>24150.967826</td>\n",
              "      <td>9.60381</td>\n",
              "      <td>1400.209171</td>\n",
              "      <td>3.793172</td>\n",
              "      <td>2065.13454</td>\n",
              "      <td>0.482957</td>\n",
              "    </tr>\n",
              "    <tr>\n",
              "      <th>min</th>\n",
              "      <td>1.000000</td>\n",
              "      <td>0.000000e+00</td>\n",
              "      <td>0.000000</td>\n",
              "      <td>1.000000</td>\n",
              "      <td>1.000000</td>\n",
              "      <td>1.000000</td>\n",
              "      <td>0.000000</td>\n",
              "      <td>0.00000</td>\n",
              "      <td>0.000000</td>\n",
              "      <td>0.000000</td>\n",
              "      <td>2.00000</td>\n",
              "      <td>0.000000</td>\n",
              "    </tr>\n",
              "    <tr>\n",
              "      <th>25%</th>\n",
              "      <td>1010.500000</td>\n",
              "      <td>1.852750e+04</td>\n",
              "      <td>0.000000</td>\n",
              "      <td>1.000000</td>\n",
              "      <td>1.000000</td>\n",
              "      <td>1.000000</td>\n",
              "      <td>1250.000000</td>\n",
              "      <td>3.00000</td>\n",
              "      <td>0.000000</td>\n",
              "      <td>0.000000</td>\n",
              "      <td>2330.00000</td>\n",
              "      <td>0.000000</td>\n",
              "    </tr>\n",
              "    <tr>\n",
              "      <th>50%</th>\n",
              "      <td>2016.000000</td>\n",
              "      <td>4.309700e+04</td>\n",
              "      <td>0.000000</td>\n",
              "      <td>1.000000</td>\n",
              "      <td>1.000000</td>\n",
              "      <td>1.000000</td>\n",
              "      <td>7171.000000</td>\n",
              "      <td>12.00000</td>\n",
              "      <td>0.000000</td>\n",
              "      <td>0.000000</td>\n",
              "      <td>4096.00000</td>\n",
              "      <td>0.000000</td>\n",
              "    </tr>\n",
              "    <tr>\n",
              "      <th>75%</th>\n",
              "      <td>3020.500000</td>\n",
              "      <td>9.240400e+04</td>\n",
              "      <td>0.000000</td>\n",
              "      <td>3.000000</td>\n",
              "      <td>1.000000</td>\n",
              "      <td>1.000000</td>\n",
              "      <td>23800.500000</td>\n",
              "      <td>17.00000</td>\n",
              "      <td>311.000000</td>\n",
              "      <td>1.000000</td>\n",
              "      <td>5790.50000</td>\n",
              "      <td>1.000000</td>\n",
              "    </tr>\n",
              "    <tr>\n",
              "      <th>max</th>\n",
              "      <td>4021.000000</td>\n",
              "      <td>1.704838e+06</td>\n",
              "      <td>11148.000000</td>\n",
              "      <td>5.000000</td>\n",
              "      <td>3.000000</td>\n",
              "      <td>5.000000</td>\n",
              "      <td>263685.000000</td>\n",
              "      <td>86.00000</td>\n",
              "      <td>30817.000000</td>\n",
              "      <td>53.000000</td>\n",
              "      <td>8296.00000</td>\n",
              "      <td>1.000000</td>\n",
              "    </tr>\n",
              "  </tbody>\n",
              "</table>\n",
              "</div>"
            ],
            "text/plain": [
              "               ID#       Balance    Qual_miles    cc1_miles    cc2_miles  \\\n",
              "count  3999.000000  3.999000e+03   3999.000000  3999.000000  3999.000000   \n",
              "mean   2014.819455  7.360133e+04    144.114529     2.059515     1.014504   \n",
              "std    1160.764358  1.007757e+05    773.663804     1.376919     0.147650   \n",
              "min       1.000000  0.000000e+00      0.000000     1.000000     1.000000   \n",
              "25%    1010.500000  1.852750e+04      0.000000     1.000000     1.000000   \n",
              "50%    2016.000000  4.309700e+04      0.000000     1.000000     1.000000   \n",
              "75%    3020.500000  9.240400e+04      0.000000     3.000000     1.000000   \n",
              "max    4021.000000  1.704838e+06  11148.000000     5.000000     3.000000   \n",
              "\n",
              "         cc3_miles    Bonus_miles  Bonus_trans  Flight_miles_12mo  \\\n",
              "count  3999.000000    3999.000000   3999.00000        3999.000000   \n",
              "mean      1.012253   17144.846212     11.60190         460.055764   \n",
              "std       0.195241   24150.967826      9.60381        1400.209171   \n",
              "min       1.000000       0.000000      0.00000           0.000000   \n",
              "25%       1.000000    1250.000000      3.00000           0.000000   \n",
              "50%       1.000000    7171.000000     12.00000           0.000000   \n",
              "75%       1.000000   23800.500000     17.00000         311.000000   \n",
              "max       5.000000  263685.000000     86.00000       30817.000000   \n",
              "\n",
              "       Flight_trans_12  Days_since_enroll       Award?  \n",
              "count      3999.000000         3999.00000  3999.000000  \n",
              "mean          1.373593         4118.55939     0.370343  \n",
              "std           3.793172         2065.13454     0.482957  \n",
              "min           0.000000            2.00000     0.000000  \n",
              "25%           0.000000         2330.00000     0.000000  \n",
              "50%           0.000000         4096.00000     0.000000  \n",
              "75%           1.000000         5790.50000     1.000000  \n",
              "max          53.000000         8296.00000     1.000000  "
            ]
          },
          "execution_count": 46,
          "metadata": {},
          "output_type": "execute_result"
        }
      ],
      "source": [
        "data.describe()"
      ]
    },
    {
      "cell_type": "markdown",
      "id": "fbf62389",
      "metadata": {
        "id": "fbf62389"
      },
      "source": [
        "4 business models"
      ]
    },
    {
      "cell_type": "code",
      "execution_count": null,
      "id": "d1c3b8c5",
      "metadata": {
        "id": "d1c3b8c5",
        "outputId": "76e76601-abc2-42ae-de2b-11a6ec5cd614"
      },
      "outputs": [
        {
          "data": {
            "text/plain": [
              "ID#                   2014.819455\n",
              "Balance              73601.327582\n",
              "Qual_miles             144.114529\n",
              "cc1_miles                2.059515\n",
              "cc2_miles                1.014504\n",
              "cc3_miles                1.012253\n",
              "Bonus_miles          17144.846212\n",
              "Bonus_trans             11.601900\n",
              "Flight_miles_12mo      460.055764\n",
              "Flight_trans_12          1.373593\n",
              "Days_since_enroll     4118.559390\n",
              "Award?                   0.370343\n",
              "dtype: float64"
            ]
          },
          "execution_count": 47,
          "metadata": {},
          "output_type": "execute_result"
        }
      ],
      "source": [
        "data.mean()"
      ]
    },
    {
      "cell_type": "code",
      "execution_count": null,
      "id": "d74b080a",
      "metadata": {
        "id": "d74b080a",
        "outputId": "df4dfb0a-8d3a-414a-ca64-29f87d257586"
      },
      "outputs": [
        {
          "data": {
            "text/plain": [
              "ID#                   2016.0\n",
              "Balance              43097.0\n",
              "Qual_miles               0.0\n",
              "cc1_miles                1.0\n",
              "cc2_miles                1.0\n",
              "cc3_miles                1.0\n",
              "Bonus_miles           7171.0\n",
              "Bonus_trans             12.0\n",
              "Flight_miles_12mo        0.0\n",
              "Flight_trans_12          0.0\n",
              "Days_since_enroll     4096.0\n",
              "Award?                   0.0\n",
              "dtype: float64"
            ]
          },
          "execution_count": 48,
          "metadata": {},
          "output_type": "execute_result"
        }
      ],
      "source": [
        "data.median()"
      ]
    },
    {
      "cell_type": "code",
      "execution_count": null,
      "id": "ef67d5ce",
      "metadata": {
        "id": "ef67d5ce",
        "outputId": "abc5d630-0692-458a-a411-631dda5b5405"
      },
      "outputs": [
        {
          "data": {
            "text/plain": [
              "ID#                  1.347374e+06\n",
              "Balance              1.015573e+10\n",
              "Qual_miles           5.985557e+05\n",
              "cc1_miles            1.895907e+00\n",
              "cc2_miles            2.180060e-02\n",
              "cc3_miles            3.811896e-02\n",
              "Bonus_miles          5.832692e+08\n",
              "Bonus_trans          9.223317e+01\n",
              "Flight_miles_12mo    1.960586e+06\n",
              "Flight_trans_12      1.438816e+01\n",
              "Days_since_enroll    4.264781e+06\n",
              "Award?               2.332473e-01\n",
              "dtype: float64"
            ]
          },
          "execution_count": 49,
          "metadata": {},
          "output_type": "execute_result"
        }
      ],
      "source": [
        "data.var()"
      ]
    },
    {
      "cell_type": "code",
      "execution_count": null,
      "id": "09c8bf82",
      "metadata": {
        "id": "09c8bf82",
        "outputId": "50745095-e5a8-4a1e-d5aa-16802f0b4498"
      },
      "outputs": [
        {
          "data": {
            "text/plain": [
              "ID#                  -0.003343\n",
              "Balance               5.004187\n",
              "Qual_miles            7.512395\n",
              "cc1_miles             0.857569\n",
              "cc2_miles            11.210459\n",
              "cc3_miles            17.195532\n",
              "Bonus_miles           2.842093\n",
              "Bonus_trans           1.157362\n",
              "Flight_miles_12mo     7.451666\n",
              "Flight_trans_12       5.490461\n",
              "Days_since_enroll     0.120174\n",
              "Award?                0.537200\n",
              "dtype: float64"
            ]
          },
          "execution_count": 50,
          "metadata": {},
          "output_type": "execute_result"
        }
      ],
      "source": [
        "data.skew()"
      ]
    },
    {
      "cell_type": "code",
      "execution_count": null,
      "id": "83d532be",
      "metadata": {
        "id": "83d532be",
        "outputId": "9b397230-730f-4562-d5d1-9805f851f05d"
      },
      "outputs": [
        {
          "data": {
            "text/plain": [
              "ID#                    1160.764358\n",
              "Balance              100775.664958\n",
              "Qual_miles              773.663804\n",
              "cc1_miles                 1.376919\n",
              "cc2_miles                 0.147650\n",
              "cc3_miles                 0.195241\n",
              "Bonus_miles           24150.967826\n",
              "Bonus_trans               9.603810\n",
              "Flight_miles_12mo      1400.209171\n",
              "Flight_trans_12           3.793172\n",
              "Days_since_enroll      2065.134540\n",
              "Award?                    0.482957\n",
              "dtype: float64"
            ]
          },
          "execution_count": 51,
          "metadata": {},
          "output_type": "execute_result"
        }
      ],
      "source": [
        "data.std()"
      ]
    },
    {
      "cell_type": "code",
      "execution_count": null,
      "id": "aab01339",
      "metadata": {
        "id": "aab01339",
        "outputId": "04da4663-bda5-4bb1-bde9-187f48f3e1bf"
      },
      "outputs": [
        {
          "data": {
            "text/plain": [
              "ID#                   -1.199648\n",
              "Balance               44.157932\n",
              "Qual_miles            67.689351\n",
              "cc1_miles             -0.748508\n",
              "cc2_miles            133.786489\n",
              "cc3_miles            308.654728\n",
              "Bonus_miles           13.630489\n",
              "Bonus_trans            2.745737\n",
              "Flight_miles_12mo     94.761019\n",
              "Flight_trans_12       42.978152\n",
              "Days_since_enroll     -0.967505\n",
              "Award?                -1.712272\n",
              "dtype: float64"
            ]
          },
          "execution_count": 52,
          "metadata": {},
          "output_type": "execute_result"
        }
      ],
      "source": [
        "data.kurt()"
      ]
    },
    {
      "cell_type": "markdown",
      "id": "b7b0be75",
      "metadata": {
        "id": "b7b0be75"
      },
      "source": [
        "preprocessing of the data"
      ]
    },
    {
      "cell_type": "code",
      "execution_count": null,
      "id": "d6af96bb",
      "metadata": {
        "id": "d6af96bb",
        "outputId": "b897e20b-21b6-42d5-c164-59b5d70e506e"
      },
      "outputs": [
        {
          "data": {
            "text/plain": [
              "ID#                  int64\n",
              "Balance              int64\n",
              "Qual_miles           int64\n",
              "cc1_miles            int64\n",
              "cc2_miles            int64\n",
              "cc3_miles            int64\n",
              "Bonus_miles          int64\n",
              "Bonus_trans          int64\n",
              "Flight_miles_12mo    int64\n",
              "Flight_trans_12      int64\n",
              "Days_since_enroll    int64\n",
              "Award?               int64\n",
              "dtype: object"
            ]
          },
          "execution_count": 53,
          "metadata": {},
          "output_type": "execute_result"
        }
      ],
      "source": [
        "data.dtypes"
      ]
    },
    {
      "cell_type": "code",
      "execution_count": null,
      "id": "507158db",
      "metadata": {
        "id": "507158db",
        "outputId": "7f222e21-9a11-4eda-ed2a-75d8a2c27001"
      },
      "outputs": [
        {
          "data": {
            "text/plain": [
              "ID#                  0\n",
              "Balance              0\n",
              "Qual_miles           0\n",
              "cc1_miles            0\n",
              "cc2_miles            0\n",
              "cc3_miles            0\n",
              "Bonus_miles          0\n",
              "Bonus_trans          0\n",
              "Flight_miles_12mo    0\n",
              "Flight_trans_12      0\n",
              "Days_since_enroll    0\n",
              "Award?               0\n",
              "dtype: int64"
            ]
          },
          "execution_count": 54,
          "metadata": {},
          "output_type": "execute_result"
        }
      ],
      "source": [
        "data.isnull().sum()"
      ]
    },
    {
      "cell_type": "code",
      "execution_count": null,
      "id": "cf46eeb1",
      "metadata": {
        "id": "cf46eeb1",
        "outputId": "ea93b927-46ce-4190-ed2a-54559fc16452"
      },
      "outputs": [
        {
          "name": "stdout",
          "output_type": "stream",
          "text": [
            "<class 'pandas.core.frame.DataFrame'>\n",
            "RangeIndex: 3999 entries, 0 to 3998\n",
            "Data columns (total 12 columns):\n",
            " #   Column             Non-Null Count  Dtype\n",
            "---  ------             --------------  -----\n",
            " 0   ID#                3999 non-null   int64\n",
            " 1   Balance            3999 non-null   int64\n",
            " 2   Qual_miles         3999 non-null   int64\n",
            " 3   cc1_miles          3999 non-null   int64\n",
            " 4   cc2_miles          3999 non-null   int64\n",
            " 5   cc3_miles          3999 non-null   int64\n",
            " 6   Bonus_miles        3999 non-null   int64\n",
            " 7   Bonus_trans        3999 non-null   int64\n",
            " 8   Flight_miles_12mo  3999 non-null   int64\n",
            " 9   Flight_trans_12    3999 non-null   int64\n",
            " 10  Days_since_enroll  3999 non-null   int64\n",
            " 11  Award?             3999 non-null   int64\n",
            "dtypes: int64(12)\n",
            "memory usage: 375.0 KB\n"
          ]
        }
      ],
      "source": [
        "data.info()"
      ]
    },
    {
      "cell_type": "markdown",
      "id": "b158f4c1",
      "metadata": {
        "id": "b158f4c1"
      },
      "source": [
        "Model Creation"
      ]
    },
    {
      "cell_type": "code",
      "execution_count": null,
      "id": "a5e6982a",
      "metadata": {
        "id": "a5e6982a"
      },
      "outputs": [],
      "source": [
        "# Normalization of the data\n",
        "def norm_df(i):\n",
        "    x = (i-i.min())/(i.min()-i.max())\n",
        "    return(x)"
      ]
    },
    {
      "cell_type": "code",
      "execution_count": null,
      "id": "893d3d76",
      "metadata": {
        "id": "893d3d76",
        "outputId": "097215bc-ce37-4476-8083-8644f93bab6f"
      },
      "outputs": [
        {
          "data": {
            "text/html": [
              "<div>\n",
              "<style scoped>\n",
              "    .dataframe tbody tr th:only-of-type {\n",
              "        vertical-align: middle;\n",
              "    }\n",
              "\n",
              "    .dataframe tbody tr th {\n",
              "        vertical-align: top;\n",
              "    }\n",
              "\n",
              "    .dataframe thead th {\n",
              "        text-align: right;\n",
              "    }\n",
              "</style>\n",
              "<table border=\"1\" class=\"dataframe\">\n",
              "  <thead>\n",
              "    <tr style=\"text-align: right;\">\n",
              "      <th></th>\n",
              "      <th>ID#</th>\n",
              "      <th>Balance</th>\n",
              "      <th>Qual_miles</th>\n",
              "      <th>cc1_miles</th>\n",
              "      <th>cc2_miles</th>\n",
              "      <th>cc3_miles</th>\n",
              "      <th>Bonus_miles</th>\n",
              "      <th>Bonus_trans</th>\n",
              "      <th>Flight_miles_12mo</th>\n",
              "      <th>Flight_trans_12</th>\n",
              "      <th>Days_since_enroll</th>\n",
              "      <th>Award?</th>\n",
              "    </tr>\n",
              "  </thead>\n",
              "  <tbody>\n",
              "    <tr>\n",
              "      <th>0</th>\n",
              "      <td>-0.000000</td>\n",
              "      <td>-0.016508</td>\n",
              "      <td>-0.0</td>\n",
              "      <td>-0.00</td>\n",
              "      <td>-0.0</td>\n",
              "      <td>-0.0</td>\n",
              "      <td>-0.000660</td>\n",
              "      <td>-0.011628</td>\n",
              "      <td>-0.000000</td>\n",
              "      <td>-0.000000</td>\n",
              "      <td>-0.843742</td>\n",
              "      <td>-0.0</td>\n",
              "    </tr>\n",
              "    <tr>\n",
              "      <th>1</th>\n",
              "      <td>-0.000249</td>\n",
              "      <td>-0.011288</td>\n",
              "      <td>-0.0</td>\n",
              "      <td>-0.00</td>\n",
              "      <td>-0.0</td>\n",
              "      <td>-0.0</td>\n",
              "      <td>-0.000815</td>\n",
              "      <td>-0.023256</td>\n",
              "      <td>-0.000000</td>\n",
              "      <td>-0.000000</td>\n",
              "      <td>-0.839884</td>\n",
              "      <td>-0.0</td>\n",
              "    </tr>\n",
              "    <tr>\n",
              "      <th>2</th>\n",
              "      <td>-0.000498</td>\n",
              "      <td>-0.024257</td>\n",
              "      <td>-0.0</td>\n",
              "      <td>-0.00</td>\n",
              "      <td>-0.0</td>\n",
              "      <td>-0.0</td>\n",
              "      <td>-0.015636</td>\n",
              "      <td>-0.046512</td>\n",
              "      <td>-0.000000</td>\n",
              "      <td>-0.000000</td>\n",
              "      <td>-0.847842</td>\n",
              "      <td>-0.0</td>\n",
              "    </tr>\n",
              "    <tr>\n",
              "      <th>3</th>\n",
              "      <td>-0.000746</td>\n",
              "      <td>-0.008667</td>\n",
              "      <td>-0.0</td>\n",
              "      <td>-0.00</td>\n",
              "      <td>-0.0</td>\n",
              "      <td>-0.0</td>\n",
              "      <td>-0.001896</td>\n",
              "      <td>-0.011628</td>\n",
              "      <td>-0.000000</td>\n",
              "      <td>-0.000000</td>\n",
              "      <td>-0.837955</td>\n",
              "      <td>-0.0</td>\n",
              "    </tr>\n",
              "    <tr>\n",
              "      <th>4</th>\n",
              "      <td>-0.000995</td>\n",
              "      <td>-0.057338</td>\n",
              "      <td>-0.0</td>\n",
              "      <td>-0.75</td>\n",
              "      <td>-0.0</td>\n",
              "      <td>-0.0</td>\n",
              "      <td>-0.164211</td>\n",
              "      <td>-0.302326</td>\n",
              "      <td>-0.067398</td>\n",
              "      <td>-0.075472</td>\n",
              "      <td>-0.835905</td>\n",
              "      <td>-1.0</td>\n",
              "    </tr>\n",
              "    <tr>\n",
              "      <th>...</th>\n",
              "      <td>...</td>\n",
              "      <td>...</td>\n",
              "      <td>...</td>\n",
              "      <td>...</td>\n",
              "      <td>...</td>\n",
              "      <td>...</td>\n",
              "      <td>...</td>\n",
              "      <td>...</td>\n",
              "      <td>...</td>\n",
              "      <td>...</td>\n",
              "      <td>...</td>\n",
              "      <td>...</td>\n",
              "    </tr>\n",
              "    <tr>\n",
              "      <th>3994</th>\n",
              "      <td>-0.999005</td>\n",
              "      <td>-0.010837</td>\n",
              "      <td>-0.0</td>\n",
              "      <td>-0.00</td>\n",
              "      <td>-0.0</td>\n",
              "      <td>-0.0</td>\n",
              "      <td>-0.032330</td>\n",
              "      <td>-0.046512</td>\n",
              "      <td>-0.006490</td>\n",
              "      <td>-0.018868</td>\n",
              "      <td>-0.168917</td>\n",
              "      <td>-1.0</td>\n",
              "    </tr>\n",
              "    <tr>\n",
              "      <th>3995</th>\n",
              "      <td>-0.999254</td>\n",
              "      <td>-0.037766</td>\n",
              "      <td>-0.0</td>\n",
              "      <td>-0.00</td>\n",
              "      <td>-0.0</td>\n",
              "      <td>-0.0</td>\n",
              "      <td>-0.003720</td>\n",
              "      <td>-0.058140</td>\n",
              "      <td>-0.000000</td>\n",
              "      <td>-0.000000</td>\n",
              "      <td>-0.167953</td>\n",
              "      <td>-1.0</td>\n",
              "    </tr>\n",
              "    <tr>\n",
              "      <th>3996</th>\n",
              "      <td>-0.999502</td>\n",
              "      <td>-0.043169</td>\n",
              "      <td>-0.0</td>\n",
              "      <td>-0.50</td>\n",
              "      <td>-0.0</td>\n",
              "      <td>-0.0</td>\n",
              "      <td>-0.096505</td>\n",
              "      <td>-0.093023</td>\n",
              "      <td>-0.000000</td>\n",
              "      <td>-0.000000</td>\n",
              "      <td>-0.168797</td>\n",
              "      <td>-1.0</td>\n",
              "    </tr>\n",
              "    <tr>\n",
              "      <th>3997</th>\n",
              "      <td>-0.999751</td>\n",
              "      <td>-0.032202</td>\n",
              "      <td>-0.0</td>\n",
              "      <td>-0.00</td>\n",
              "      <td>-0.0</td>\n",
              "      <td>-0.0</td>\n",
              "      <td>-0.001896</td>\n",
              "      <td>-0.011628</td>\n",
              "      <td>-0.016225</td>\n",
              "      <td>-0.018868</td>\n",
              "      <td>-0.168676</td>\n",
              "      <td>-0.0</td>\n",
              "    </tr>\n",
              "    <tr>\n",
              "      <th>3998</th>\n",
              "      <td>-1.000000</td>\n",
              "      <td>-0.001769</td>\n",
              "      <td>-0.0</td>\n",
              "      <td>-0.00</td>\n",
              "      <td>-0.0</td>\n",
              "      <td>-0.0</td>\n",
              "      <td>-0.000000</td>\n",
              "      <td>-0.000000</td>\n",
              "      <td>-0.000000</td>\n",
              "      <td>-0.000000</td>\n",
              "      <td>-0.168314</td>\n",
              "      <td>-0.0</td>\n",
              "    </tr>\n",
              "  </tbody>\n",
              "</table>\n",
              "<p>3999 rows × 12 columns</p>\n",
              "</div>"
            ],
            "text/plain": [
              "           ID#   Balance  Qual_miles  cc1_miles  cc2_miles  cc3_miles  \\\n",
              "0    -0.000000 -0.016508        -0.0      -0.00       -0.0       -0.0   \n",
              "1    -0.000249 -0.011288        -0.0      -0.00       -0.0       -0.0   \n",
              "2    -0.000498 -0.024257        -0.0      -0.00       -0.0       -0.0   \n",
              "3    -0.000746 -0.008667        -0.0      -0.00       -0.0       -0.0   \n",
              "4    -0.000995 -0.057338        -0.0      -0.75       -0.0       -0.0   \n",
              "...        ...       ...         ...        ...        ...        ...   \n",
              "3994 -0.999005 -0.010837        -0.0      -0.00       -0.0       -0.0   \n",
              "3995 -0.999254 -0.037766        -0.0      -0.00       -0.0       -0.0   \n",
              "3996 -0.999502 -0.043169        -0.0      -0.50       -0.0       -0.0   \n",
              "3997 -0.999751 -0.032202        -0.0      -0.00       -0.0       -0.0   \n",
              "3998 -1.000000 -0.001769        -0.0      -0.00       -0.0       -0.0   \n",
              "\n",
              "      Bonus_miles  Bonus_trans  Flight_miles_12mo  Flight_trans_12  \\\n",
              "0       -0.000660    -0.011628          -0.000000        -0.000000   \n",
              "1       -0.000815    -0.023256          -0.000000        -0.000000   \n",
              "2       -0.015636    -0.046512          -0.000000        -0.000000   \n",
              "3       -0.001896    -0.011628          -0.000000        -0.000000   \n",
              "4       -0.164211    -0.302326          -0.067398        -0.075472   \n",
              "...           ...          ...                ...              ...   \n",
              "3994    -0.032330    -0.046512          -0.006490        -0.018868   \n",
              "3995    -0.003720    -0.058140          -0.000000        -0.000000   \n",
              "3996    -0.096505    -0.093023          -0.000000        -0.000000   \n",
              "3997    -0.001896    -0.011628          -0.016225        -0.018868   \n",
              "3998    -0.000000    -0.000000          -0.000000        -0.000000   \n",
              "\n",
              "      Days_since_enroll  Award?  \n",
              "0             -0.843742    -0.0  \n",
              "1             -0.839884    -0.0  \n",
              "2             -0.847842    -0.0  \n",
              "3             -0.837955    -0.0  \n",
              "4             -0.835905    -1.0  \n",
              "...                 ...     ...  \n",
              "3994          -0.168917    -1.0  \n",
              "3995          -0.167953    -1.0  \n",
              "3996          -0.168797    -1.0  \n",
              "3997          -0.168676    -0.0  \n",
              "3998          -0.168314    -0.0  \n",
              "\n",
              "[3999 rows x 12 columns]"
            ]
          },
          "execution_count": 6,
          "metadata": {},
          "output_type": "execute_result"
        }
      ],
      "source": [
        "normal_data=norm_df(data)\n",
        "normal_data"
      ]
    },
    {
      "cell_type": "code",
      "execution_count": null,
      "id": "c90a6d8a",
      "metadata": {
        "id": "c90a6d8a"
      },
      "outputs": [],
      "source": [
        "from sklearn.cluster import KMeans"
      ]
    },
    {
      "cell_type": "code",
      "execution_count": null,
      "id": "2db9e437",
      "metadata": {
        "id": "2db9e437",
        "outputId": "8e14c7d0-6ed5-4703-b3a4-afaec7af2c5e"
      },
      "outputs": [
        {
          "data": {
            "image/png": "[encoded data removed]",
            "text/plain": [
              "<Figure size 640x480 with 1 Axes>"
            ]
          },
          "metadata": {},
          "output_type": "display_data"
        }
      ],
      "source": [
        "wcss=[]\n",
        "for k in range(1,11):\n",
        "    clf=KMeans(n_clusters=k)\n",
        "    clf.fit(normal_data)\n",
        "    wcss.append(clf.inertia_)\n",
        "plt.plot(range(1,11),wcss)\n",
        "plt.title(\"Elbow Method\")\n",
        "plt.xlabel(\"WCSS\")\n",
        "plt.ylabel(\"No of Clusters\")\n",
        "plt.show()"
      ]
    },
    {
      "cell_type": "markdown",
      "id": "51159350",
      "metadata": {
        "id": "51159350"
      },
      "source": [
        "Here We Assume That k-value is to be 5"
      ]
    },
    {
      "cell_type": "code",
      "execution_count": null,
      "id": "9a9da318",
      "metadata": {
        "id": "9a9da318",
        "outputId": "73be7dec-7831-4ed3-e481-5b066d9f2c75"
      },
      "outputs": [
        {
          "data": {
            "text/plain": [
              "array([2, 2, 2, ..., 3, 0, 0])"
            ]
          },
          "execution_count": 10,
          "metadata": {},
          "output_type": "execute_result"
        }
      ],
      "source": [
        "model1=KMeans(n_clusters=5)\n",
        "model1.fit(normal_data)\n",
        "model1.labels_"
      ]
    },
    {
      "cell_type": "code",
      "execution_count": null,
      "id": "4ad17703",
      "metadata": {
        "id": "4ad17703",
        "outputId": "3a5683f3-1355-418c-deea-4d4d8ba39d23"
      },
      "outputs": [
        {
          "data": {
            "text/plain": [
              "(3999,)"
            ]
          },
          "execution_count": 11,
          "metadata": {},
          "output_type": "execute_result"
        }
      ],
      "source": [
        "model1.labels_.shape"
      ]
    },
    {
      "cell_type": "code",
      "execution_count": null,
      "id": "87db391e",
      "metadata": {
        "id": "87db391e"
      },
      "outputs": [],
      "source": [
        "normal_data[\"Clusters\"]=model1.labels_"
      ]
    },
    {
      "cell_type": "code",
      "execution_count": null,
      "id": "50efb3e1",
      "metadata": {
        "id": "50efb3e1",
        "outputId": "1fd46b72-834c-4f0a-d133-3beb2956a413"
      },
      "outputs": [
        {
          "data": {
            "text/html": [
              "<div>\n",
              "<style scoped>\n",
              "    .dataframe tbody tr th:only-of-type {\n",
              "        vertical-align: middle;\n",
              "    }\n",
              "\n",
              "    .dataframe tbody tr th {\n",
              "        vertical-align: top;\n",
              "    }\n",
              "\n",
              "    .dataframe thead th {\n",
              "        text-align: right;\n",
              "    }\n",
              "</style>\n",
              "<table border=\"1\" class=\"dataframe\">\n",
              "  <thead>\n",
              "    <tr style=\"text-align: right;\">\n",
              "      <th></th>\n",
              "      <th>ID#</th>\n",
              "      <th>Balance</th>\n",
              "      <th>Qual_miles</th>\n",
              "      <th>cc1_miles</th>\n",
              "      <th>cc2_miles</th>\n",
              "      <th>cc3_miles</th>\n",
              "      <th>Bonus_miles</th>\n",
              "      <th>Bonus_trans</th>\n",
              "      <th>Flight_miles_12mo</th>\n",
              "      <th>Flight_trans_12</th>\n",
              "      <th>Days_since_enroll</th>\n",
              "      <th>Award?</th>\n",
              "      <th>Clusters</th>\n",
              "    </tr>\n",
              "  </thead>\n",
              "  <tbody>\n",
              "    <tr>\n",
              "      <th>0</th>\n",
              "      <td>-0.000000</td>\n",
              "      <td>-0.016508</td>\n",
              "      <td>-0.0</td>\n",
              "      <td>-0.00</td>\n",
              "      <td>-0.0</td>\n",
              "      <td>-0.0</td>\n",
              "      <td>-0.000660</td>\n",
              "      <td>-0.011628</td>\n",
              "      <td>-0.000000</td>\n",
              "      <td>-0.000000</td>\n",
              "      <td>-0.843742</td>\n",
              "      <td>-0.0</td>\n",
              "      <td>2</td>\n",
              "    </tr>\n",
              "    <tr>\n",
              "      <th>1</th>\n",
              "      <td>-0.000249</td>\n",
              "      <td>-0.011288</td>\n",
              "      <td>-0.0</td>\n",
              "      <td>-0.00</td>\n",
              "      <td>-0.0</td>\n",
              "      <td>-0.0</td>\n",
              "      <td>-0.000815</td>\n",
              "      <td>-0.023256</td>\n",
              "      <td>-0.000000</td>\n",
              "      <td>-0.000000</td>\n",
              "      <td>-0.839884</td>\n",
              "      <td>-0.0</td>\n",
              "      <td>2</td>\n",
              "    </tr>\n",
              "    <tr>\n",
              "      <th>2</th>\n",
              "      <td>-0.000498</td>\n",
              "      <td>-0.024257</td>\n",
              "      <td>-0.0</td>\n",
              "      <td>-0.00</td>\n",
              "      <td>-0.0</td>\n",
              "      <td>-0.0</td>\n",
              "      <td>-0.015636</td>\n",
              "      <td>-0.046512</td>\n",
              "      <td>-0.000000</td>\n",
              "      <td>-0.000000</td>\n",
              "      <td>-0.847842</td>\n",
              "      <td>-0.0</td>\n",
              "      <td>2</td>\n",
              "    </tr>\n",
              "    <tr>\n",
              "      <th>3</th>\n",
              "      <td>-0.000746</td>\n",
              "      <td>-0.008667</td>\n",
              "      <td>-0.0</td>\n",
              "      <td>-0.00</td>\n",
              "      <td>-0.0</td>\n",
              "      <td>-0.0</td>\n",
              "      <td>-0.001896</td>\n",
              "      <td>-0.011628</td>\n",
              "      <td>-0.000000</td>\n",
              "      <td>-0.000000</td>\n",
              "      <td>-0.837955</td>\n",
              "      <td>-0.0</td>\n",
              "      <td>2</td>\n",
              "    </tr>\n",
              "    <tr>\n",
              "      <th>4</th>\n",
              "      <td>-0.000995</td>\n",
              "      <td>-0.057338</td>\n",
              "      <td>-0.0</td>\n",
              "      <td>-0.75</td>\n",
              "      <td>-0.0</td>\n",
              "      <td>-0.0</td>\n",
              "      <td>-0.164211</td>\n",
              "      <td>-0.302326</td>\n",
              "      <td>-0.067398</td>\n",
              "      <td>-0.075472</td>\n",
              "      <td>-0.835905</td>\n",
              "      <td>-1.0</td>\n",
              "      <td>1</td>\n",
              "    </tr>\n",
              "    <tr>\n",
              "      <th>...</th>\n",
              "      <td>...</td>\n",
              "      <td>...</td>\n",
              "      <td>...</td>\n",
              "      <td>...</td>\n",
              "      <td>...</td>\n",
              "      <td>...</td>\n",
              "      <td>...</td>\n",
              "      <td>...</td>\n",
              "      <td>...</td>\n",
              "      <td>...</td>\n",
              "      <td>...</td>\n",
              "      <td>...</td>\n",
              "      <td>...</td>\n",
              "    </tr>\n",
              "    <tr>\n",
              "      <th>3994</th>\n",
              "      <td>-0.999005</td>\n",
              "      <td>-0.010837</td>\n",
              "      <td>-0.0</td>\n",
              "      <td>-0.00</td>\n",
              "      <td>-0.0</td>\n",
              "      <td>-0.0</td>\n",
              "      <td>-0.032330</td>\n",
              "      <td>-0.046512</td>\n",
              "      <td>-0.006490</td>\n",
              "      <td>-0.018868</td>\n",
              "      <td>-0.168917</td>\n",
              "      <td>-1.0</td>\n",
              "      <td>3</td>\n",
              "    </tr>\n",
              "    <tr>\n",
              "      <th>3995</th>\n",
              "      <td>-0.999254</td>\n",
              "      <td>-0.037766</td>\n",
              "      <td>-0.0</td>\n",
              "      <td>-0.00</td>\n",
              "      <td>-0.0</td>\n",
              "      <td>-0.0</td>\n",
              "      <td>-0.003720</td>\n",
              "      <td>-0.058140</td>\n",
              "      <td>-0.000000</td>\n",
              "      <td>-0.000000</td>\n",
              "      <td>-0.167953</td>\n",
              "      <td>-1.0</td>\n",
              "      <td>3</td>\n",
              "    </tr>\n",
              "    <tr>\n",
              "      <th>3996</th>\n",
              "      <td>-0.999502</td>\n",
              "      <td>-0.043169</td>\n",
              "      <td>-0.0</td>\n",
              "      <td>-0.50</td>\n",
              "      <td>-0.0</td>\n",
              "      <td>-0.0</td>\n",
              "      <td>-0.096505</td>\n",
              "      <td>-0.093023</td>\n",
              "      <td>-0.000000</td>\n",
              "      <td>-0.000000</td>\n",
              "      <td>-0.168797</td>\n",
              "      <td>-1.0</td>\n",
              "      <td>3</td>\n",
              "    </tr>\n",
              "    <tr>\n",
              "      <th>3997</th>\n",
              "      <td>-0.999751</td>\n",
              "      <td>-0.032202</td>\n",
              "      <td>-0.0</td>\n",
              "      <td>-0.00</td>\n",
              "      <td>-0.0</td>\n",
              "      <td>-0.0</td>\n",
              "      <td>-0.001896</td>\n",
              "      <td>-0.011628</td>\n",
              "      <td>-0.016225</td>\n",
              "      <td>-0.018868</td>\n",
              "      <td>-0.168676</td>\n",
              "      <td>-0.0</td>\n",
              "      <td>0</td>\n",
              "    </tr>\n",
              "    <tr>\n",
              "      <th>3998</th>\n",
              "      <td>-1.000000</td>\n",
              "      <td>-0.001769</td>\n",
              "      <td>-0.0</td>\n",
              "      <td>-0.00</td>\n",
              "      <td>-0.0</td>\n",
              "      <td>-0.0</td>\n",
              "      <td>-0.000000</td>\n",
              "      <td>-0.000000</td>\n",
              "      <td>-0.000000</td>\n",
              "      <td>-0.000000</td>\n",
              "      <td>-0.168314</td>\n",
              "      <td>-0.0</td>\n",
              "      <td>0</td>\n",
              "    </tr>\n",
              "  </tbody>\n",
              "</table>\n",
              "<p>3999 rows × 13 columns</p>\n",
              "</div>"
            ],
            "text/plain": [
              "           ID#   Balance  Qual_miles  cc1_miles  cc2_miles  cc3_miles  \\\n",
              "0    -0.000000 -0.016508        -0.0      -0.00       -0.0       -0.0   \n",
              "1    -0.000249 -0.011288        -0.0      -0.00       -0.0       -0.0   \n",
              "2    -0.000498 -0.024257        -0.0      -0.00       -0.0       -0.0   \n",
              "3    -0.000746 -0.008667        -0.0      -0.00       -0.0       -0.0   \n",
              "4    -0.000995 -0.057338        -0.0      -0.75       -0.0       -0.0   \n",
              "...        ...       ...         ...        ...        ...        ...   \n",
              "3994 -0.999005 -0.010837        -0.0      -0.00       -0.0       -0.0   \n",
              "3995 -0.999254 -0.037766        -0.0      -0.00       -0.0       -0.0   \n",
              "3996 -0.999502 -0.043169        -0.0      -0.50       -0.0       -0.0   \n",
              "3997 -0.999751 -0.032202        -0.0      -0.00       -0.0       -0.0   \n",
              "3998 -1.000000 -0.001769        -0.0      -0.00       -0.0       -0.0   \n",
              "\n",
              "      Bonus_miles  Bonus_trans  Flight_miles_12mo  Flight_trans_12  \\\n",
              "0       -0.000660    -0.011628          -0.000000        -0.000000   \n",
              "1       -0.000815    -0.023256          -0.000000        -0.000000   \n",
              "2       -0.015636    -0.046512          -0.000000        -0.000000   \n",
              "3       -0.001896    -0.011628          -0.000000        -0.000000   \n",
              "4       -0.164211    -0.302326          -0.067398        -0.075472   \n",
              "...           ...          ...                ...              ...   \n",
              "3994    -0.032330    -0.046512          -0.006490        -0.018868   \n",
              "3995    -0.003720    -0.058140          -0.000000        -0.000000   \n",
              "3996    -0.096505    -0.093023          -0.000000        -0.000000   \n",
              "3997    -0.001896    -0.011628          -0.016225        -0.018868   \n",
              "3998    -0.000000    -0.000000          -0.000000        -0.000000   \n",
              "\n",
              "      Days_since_enroll  Award?  Clusters  \n",
              "0             -0.843742    -0.0         2  \n",
              "1             -0.839884    -0.0         2  \n",
              "2             -0.847842    -0.0         2  \n",
              "3             -0.837955    -0.0         2  \n",
              "4             -0.835905    -1.0         1  \n",
              "...                 ...     ...       ...  \n",
              "3994          -0.168917    -1.0         3  \n",
              "3995          -0.167953    -1.0         3  \n",
              "3996          -0.168797    -1.0         3  \n",
              "3997          -0.168676    -0.0         0  \n",
              "3998          -0.168314    -0.0         0  \n",
              "\n",
              "[3999 rows x 13 columns]"
            ]
          },
          "execution_count": 13,
          "metadata": {},
          "output_type": "execute_result"
        }
      ],
      "source": [
        "normal_data"
      ]
    },
    {
      "cell_type": "code",
      "execution_count": null,
      "id": "a287cfa8",
      "metadata": {
        "id": "a287cfa8",
        "outputId": "888cb128-340c-473e-afe8-bdda0e10bff9"
      },
      "outputs": [
        {
          "data": {
            "text/plain": [
              "536.203479043267"
            ]
          },
          "execution_count": 14,
          "metadata": {},
          "output_type": "execute_result"
        }
      ],
      "source": [
        "model1.inertia_"
      ]
    },
    {
      "cell_type": "code",
      "execution_count": null,
      "id": "3575954f",
      "metadata": {
        "id": "3575954f",
        "outputId": "8395fede-084f-4b67-c4b1-b814e2c41599"
      },
      "outputs": [
        {
          "data": {
            "text/plain": [
              "array([[-8.00672157e-01, -2.07560121e-02, -8.48674749e-03,\n",
              "        -5.10801080e-02, -8.55085509e-03, -1.57515752e-03,\n",
              "        -1.66900176e-02, -8.07150482e-02, -6.95356553e-03,\n",
              "        -1.12935822e-02, -2.38959138e-01, -4.77395901e-15],\n",
              "       [-3.42945649e-01, -6.97214035e-02, -1.80181623e-02,\n",
              "        -7.68505080e-01, -7.25689405e-04, -7.61973875e-03,\n",
              "        -1.88969989e-01, -2.42582779e-01, -2.53419773e-02,\n",
              "        -4.46093600e-02, -6.33971854e-01, -1.00000000e+00],\n",
              "       [-2.90790550e-01, -2.91376543e-02, -8.10185185e-03,\n",
              "        -2.95138889e-02, -8.68055556e-03, -2.89351852e-04,\n",
              "        -1.28416894e-02, -7.93496985e-02, -7.85524975e-03,\n",
              "        -1.35831586e-02, -6.71431797e-01, -1.27675648e-15],\n",
              "       [-5.13172144e-01, -4.57984220e-02, -2.46153226e-02,\n",
              "        -1.08270202e-01, -1.38888889e-02, -1.89393939e-03,\n",
              "        -4.05913957e-02, -1.32135307e-01, -2.99861958e-02,\n",
              "        -5.29111873e-02, -4.90783315e-01, -1.00000000e+00],\n",
              "       [-4.04765766e-01, -7.38484569e-02, -6.18416471e-03,\n",
              "        -6.66206262e-01, -9.20810313e-04, -6.44567219e-03,\n",
              "        -1.25283911e-01, -2.01593216e-01, -7.32518842e-03,\n",
              "        -1.23701310e-02, -5.77744412e-01,  4.44089210e-16]])"
            ]
          },
          "execution_count": 15,
          "metadata": {},
          "output_type": "execute_result"
        }
      ],
      "source": [
        "model1.cluster_centers_"
      ]
    },
    {
      "cell_type": "code",
      "execution_count": null,
      "id": "d577cd06",
      "metadata": {
        "id": "d577cd06",
        "outputId": "8413c68c-4dec-4889-f40f-27f9e25045cc"
      },
      "outputs": [
        {
          "data": {
            "text/html": [
              "<div>\n",
              "<style scoped>\n",
              "    .dataframe tbody tr th:only-of-type {\n",
              "        vertical-align: middle;\n",
              "    }\n",
              "\n",
              "    .dataframe tbody tr th {\n",
              "        vertical-align: top;\n",
              "    }\n",
              "\n",
              "    .dataframe thead th {\n",
              "        text-align: right;\n",
              "    }\n",
              "</style>\n",
              "<table border=\"1\" class=\"dataframe\">\n",
              "  <thead>\n",
              "    <tr style=\"text-align: right;\">\n",
              "      <th></th>\n",
              "      <th>ID#</th>\n",
              "      <th>Balance</th>\n",
              "      <th>Qual_miles</th>\n",
              "      <th>cc1_miles</th>\n",
              "      <th>cc2_miles</th>\n",
              "      <th>cc3_miles</th>\n",
              "      <th>Bonus_miles</th>\n",
              "      <th>Bonus_trans</th>\n",
              "      <th>Flight_miles_12mo</th>\n",
              "      <th>Flight_trans_12</th>\n",
              "      <th>Days_since_enroll</th>\n",
              "      <th>Award?</th>\n",
              "    </tr>\n",
              "    <tr>\n",
              "      <th>Clusters</th>\n",
              "      <th></th>\n",
              "      <th></th>\n",
              "      <th></th>\n",
              "      <th></th>\n",
              "      <th></th>\n",
              "      <th></th>\n",
              "      <th></th>\n",
              "      <th></th>\n",
              "      <th></th>\n",
              "      <th></th>\n",
              "      <th></th>\n",
              "      <th></th>\n",
              "    </tr>\n",
              "  </thead>\n",
              "  <tbody>\n",
              "    <tr>\n",
              "      <th>0</th>\n",
              "      <td>3219.702070</td>\n",
              "      <td>35385.638164</td>\n",
              "      <td>94.610261</td>\n",
              "      <td>1.204320</td>\n",
              "      <td>1.017102</td>\n",
              "      <td>1.006301</td>\n",
              "      <td>4400.907291</td>\n",
              "      <td>6.941494</td>\n",
              "      <td>214.288029</td>\n",
              "      <td>0.598560</td>\n",
              "      <td>1983.927093</td>\n",
              "      <td>0.0</td>\n",
              "    </tr>\n",
              "    <tr>\n",
              "      <th>1</th>\n",
              "      <td>1379.641509</td>\n",
              "      <td>118863.698113</td>\n",
              "      <td>200.866473</td>\n",
              "      <td>4.074020</td>\n",
              "      <td>1.001451</td>\n",
              "      <td>1.030479</td>\n",
              "      <td>49828.551524</td>\n",
              "      <td>20.862119</td>\n",
              "      <td>780.963716</td>\n",
              "      <td>2.364296</td>\n",
              "      <td>5260.162554</td>\n",
              "      <td>1.0</td>\n",
              "    </tr>\n",
              "    <tr>\n",
              "      <th>2</th>\n",
              "      <td>1169.978009</td>\n",
              "      <td>49674.980324</td>\n",
              "      <td>90.319444</td>\n",
              "      <td>1.118056</td>\n",
              "      <td>1.017361</td>\n",
              "      <td>1.001157</td>\n",
              "      <td>3386.160880</td>\n",
              "      <td>6.824074</td>\n",
              "      <td>242.075231</td>\n",
              "      <td>0.719907</td>\n",
              "      <td>5570.855324</td>\n",
              "      <td>0.0</td>\n",
              "    </tr>\n",
              "    <tr>\n",
              "      <th>3</th>\n",
              "      <td>2063.952020</td>\n",
              "      <td>78078.890152</td>\n",
              "      <td>274.411616</td>\n",
              "      <td>1.433081</td>\n",
              "      <td>1.027778</td>\n",
              "      <td>1.007576</td>\n",
              "      <td>10703.342172</td>\n",
              "      <td>11.363636</td>\n",
              "      <td>924.084596</td>\n",
              "      <td>2.804293</td>\n",
              "      <td>4072.556818</td>\n",
              "      <td>1.0</td>\n",
              "    </tr>\n",
              "    <tr>\n",
              "      <th>4</th>\n",
              "      <td>1628.158379</td>\n",
              "      <td>125899.655617</td>\n",
              "      <td>68.941068</td>\n",
              "      <td>3.664825</td>\n",
              "      <td>1.001842</td>\n",
              "      <td>1.025783</td>\n",
              "      <td>33035.488029</td>\n",
              "      <td>17.337017</td>\n",
              "      <td>225.740331</td>\n",
              "      <td>0.655617</td>\n",
              "      <td>4793.812155</td>\n",
              "      <td>0.0</td>\n",
              "    </tr>\n",
              "  </tbody>\n",
              "</table>\n",
              "</div>"
            ],
            "text/plain": [
              "                  ID#        Balance  Qual_miles  cc1_miles  cc2_miles  \\\n",
              "Clusters                                                                 \n",
              "0         3219.702070   35385.638164   94.610261   1.204320   1.017102   \n",
              "1         1379.641509  118863.698113  200.866473   4.074020   1.001451   \n",
              "2         1169.978009   49674.980324   90.319444   1.118056   1.017361   \n",
              "3         2063.952020   78078.890152  274.411616   1.433081   1.027778   \n",
              "4         1628.158379  125899.655617   68.941068   3.664825   1.001842   \n",
              "\n",
              "          cc3_miles   Bonus_miles  Bonus_trans  Flight_miles_12mo  \\\n",
              "Clusters                                                            \n",
              "0          1.006301   4400.907291     6.941494         214.288029   \n",
              "1          1.030479  49828.551524    20.862119         780.963716   \n",
              "2          1.001157   3386.160880     6.824074         242.075231   \n",
              "3          1.007576  10703.342172    11.363636         924.084596   \n",
              "4          1.025783  33035.488029    17.337017         225.740331   \n",
              "\n",
              "          Flight_trans_12  Days_since_enroll  Award?  \n",
              "Clusters                                              \n",
              "0                0.598560        1983.927093     0.0  \n",
              "1                2.364296        5260.162554     1.0  \n",
              "2                0.719907        5570.855324     0.0  \n",
              "3                2.804293        4072.556818     1.0  \n",
              "4                0.655617        4793.812155     0.0  "
            ]
          },
          "execution_count": 16,
          "metadata": {},
          "output_type": "execute_result"
        }
      ],
      "source": [
        "data.iloc[:,0:].groupby(normal_data[\"Clusters\"]).mean()"
      ]
    },
    {
      "cell_type": "code",
      "execution_count": null,
      "id": "d7d10dea",
      "metadata": {
        "id": "d7d10dea"
      },
      "outputs": [],
      "source": [
        "from sklearn.cluster import DBSCAN"
      ]
    },
    {
      "cell_type": "code",
      "execution_count": null,
      "id": "abf65dd8",
      "metadata": {
        "id": "abf65dd8",
        "outputId": "c5a79404-fcb7-46f3-b6b8-924e5cf00e47"
      },
      "outputs": [
        {
          "data": {
            "text/plain": [
              "DBSCAN()"
            ]
          },
          "execution_count": 18,
          "metadata": {},
          "output_type": "execute_result"
        }
      ],
      "source": [
        "DBSCAN()"
      ]
    }
  ],
  "metadata": {
    "kernelspec": {
      "display_name": "Python 3 (ipykernel)",
      "language": "python",
      "name": "python3"
    },
    "language_info": {
      "codemirror_mode": {
        "name": "ipython",
        "version": 3
      },
      "file_extension": ".py",
      "mimetype": "text/x-python",
      "name": "python",
      "nbconvert_exporter": "python",
      "pygments_lexer": "ipython3",
      "version": "3.9.13"
    },
    "colab": {
      "provenance": []
    }
  },
  "nbformat": 4,
  "nbformat_minor": 5
}